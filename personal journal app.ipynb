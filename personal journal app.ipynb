{
 "cells": [
  {
   "cell_type": "markdown",
   "id": "68a6b186-da4b-4f2c-942b-5eb41cda3bf8",
   "metadata": {},
   "source": [
    "#personal journal app"
   ]
  },
  {
   "cell_type": "code",
   "execution_count": 2,
   "id": "6ea5582b-9f42-4938-853b-43bf0ef698ed",
   "metadata": {},
   "outputs": [],
   "source": [
    "#Create a personal journal app that allows users to write daily entries, which are saved to text files, and retrieve them by date.\n"
   ]
  },
  {
   "cell_type": "code",
   "execution_count": null,
   "id": "1af862ce-bd66-4ea9-8082-609e3c9b62e5",
   "metadata": {},
   "outputs": [],
   "source": []
  },
  {
   "cell_type": "code",
   "execution_count": 8,
   "id": "a925858a-70f7-4313-805e-f9850db2d0b0",
   "metadata": {},
   "outputs": [
    {
     "name": "stdout",
     "output_type": "stream",
     "text": [
      "\n",
      "--- Personal Journal ---\n",
      "1. Write a new journal entry\n",
      "2. View a journal entry by date\n",
      "0. Exit\n"
     ]
    },
    {
     "name": "stdin",
     "output_type": "stream",
     "text": [
      "Choose an option:  1\n",
      "Enter the date for the entry (YYYY-MM-DD) or press Enter for today's date:  2024-10-08\n",
      "Write your journal entry for 2024-10-08:\n",
      " I need to write a journal today\n"
     ]
    },
    {
     "name": "stdout",
     "output_type": "stream",
     "text": [
      "Journal entry saved for 2024-10-08.\n",
      "\n",
      "--- Personal Journal ---\n",
      "1. Write a new journal entry\n",
      "2. View a journal entry by date\n",
      "0. Exit\n"
     ]
    },
    {
     "name": "stdin",
     "output_type": "stream",
     "text": [
      "Choose an option:  2\n",
      "Enter the date of the journal entry you want to view (YYYY-MM-DD):  2024-10-08\n"
     ]
    },
    {
     "name": "stdout",
     "output_type": "stream",
     "text": [
      "Journal entry for 2024-10-08:\n",
      "\n",
      "14:24:55 - I need to complete the project \n",
      "14:42:15 - I need to write a journal today\n",
      "\n",
      "\n",
      "--- Personal Journal ---\n",
      "1. Write a new journal entry\n",
      "2. View a journal entry by date\n",
      "0. Exit\n"
     ]
    },
    {
     "name": "stdin",
     "output_type": "stream",
     "text": [
      "Choose an option:  0\n"
     ]
    },
    {
     "name": "stdout",
     "output_type": "stream",
     "text": [
      "Exiting journal. Goodbye!\n"
     ]
    }
   ],
   "source": [
    "import os\n",
    "from datetime import datetime\n",
    "\n",
    "# Directory to store journal entries\n",
    "journal_dir = \"journal_entries\"\n",
    "\n",
    "# Ensure the directory exists\n",
    "# If the directory for storing journal entries does not exist, create it\n",
    "if not os.path.exists(journal_dir):\n",
    "    os.makedirs(journal_dir)\n",
    "\n",
    "# Function to write a journal entry\n",
    "def write_journal():\n",
    "    \"\"\"\n",
    "    This function allows the user to write a journal entry.\n",
    "    The entry is saved in a file named after the given date (or today's date).\n",
    "    \"\"\"\n",
    "    # Prompt the user to enter a date or use today's date as default\n",
    "    date = input(\"Enter the date for the entry (YYYY-MM-DD) or press Enter for today's date: \")\n",
    "    \n",
    "    # If the user doesn't enter a date, use today's date\n",
    "    if not date:\n",
    "        date = datetime.now().strftime('%Y-%m-%d')\n",
    "\n",
    "    # Prompt the user to enter their journal entry\n",
    "    entry = input(f\"Write your journal entry for {date}:\\n\")\n",
    "    \n",
    "    # Create a file named after the date, and append the entry to the file\n",
    "    file_name = f\"{journal_dir}/{date}.txt\"\n",
    "    with open(file_name, 'a') as file:\n",
    "        # Write the current time and the entry to the file\n",
    "        file.write(f\"{datetime.now().strftime('%H:%M:%S')} - {entry}\\n\")\n",
    "    \n",
    "    print(f\"Journal entry saved for {date}.\")\n",
    "\n",
    "# Function to view a journal entry by date\n",
    "def view_journal():\n",
    "    \"\"\"\n",
    "    This function allows the user to view a journal entry by entering a date.\n",
    "    It retrieves and displays the journal entry for that date if it exists.\n",
    "    \"\"\"\n",
    "    # Prompt the user to enter the date of the journal entry they want to view\n",
    "    date = input(\"Enter the date of the journal entry you want to view (YYYY-MM-DD): \")\n",
    "    \n",
    "    # The file name is based on the date provided by the user\n",
    "    file_name = f\"{journal_dir}/{date}.txt\"\n",
    "    \n",
    "    # Check if the journal entry exists for the specified date\n",
    "    if os.path.exists(file_name):\n",
    "        # If the file exists, open and read its contents\n",
    "        with open(file_name, 'r') as file:\n",
    "            print(f\"Journal entry for {date}:\\n\")\n",
    "            print(file.read())  # Print the contents of the file\n",
    "    else:\n",
    "        # If the file does not exist, notify the user\n",
    "        print(f\"No journal entry found for {date}.\")\n",
    "\n",
    "# Main menu to navigate the journal app\n",
    "def journal_menu():\n",
    "    \"\"\"\n",
    "    This function provides a simple menu for the user to choose between writing\n",
    "    a new journal entry, viewing an entry by date, or exiting the app.\n",
    "    \"\"\"\n",
    "    while True:\n",
    "        # Display the main menu options\n",
    "        print(\"\\n--- Personal Journal ---\")\n",
    "        print(\"1. Write a new journal entry\")\n",
    "        print(\"2. View a journal entry by date\")\n",
    "        print(\"0. Exit\")\n",
    "        \n",
    "        # Prompt the user to select an option\n",
    "        choice = input(\"Choose an option: \")\n",
    "        \n",
    "        # Perform actions based on the user's choice\n",
    "        if choice == '1':\n",
    "            write_journal()  # Call the function to write a journal entry\n",
    "        elif choice == '2':\n",
    "            view_journal()  # Call the function to view a journal entry\n",
    "        elif choice == '0':\n",
    "            # Exit the loop and program if the user chooses '0'\n",
    "            print(\"Exiting journal. Goodbye!\")\n",
    "            break\n",
    "        else:\n",
    "            # Handle invalid menu options\n",
    "            print(\"Invalid option, please try again.\")\n",
    "\n",
    "# Run the journal app\n",
    "journal_menu()  # Start the journal menu\n"
   ]
  },
  {
   "cell_type": "code",
   "execution_count": null,
   "id": "5d09df45-b8de-472c-9c28-f900ceb9bdd1",
   "metadata": {},
   "outputs": [],
   "source": []
  }
 ],
 "metadata": {
  "kernelspec": {
   "display_name": "Python 3 (ipykernel)",
   "language": "python",
   "name": "python3"
  },
  "language_info": {
   "codemirror_mode": {
    "name": "ipython",
    "version": 3
   },
   "file_extension": ".py",
   "mimetype": "text/x-python",
   "name": "python",
   "nbconvert_exporter": "python",
   "pygments_lexer": "ipython3",
   "version": "3.12.4"
  }
 },
 "nbformat": 4,
 "nbformat_minor": 5
}
